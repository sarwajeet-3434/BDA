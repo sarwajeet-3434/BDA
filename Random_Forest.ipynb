{
  "nbformat": 4,
  "nbformat_minor": 0,
  "metadata": {
    "colab": {
      "provenance": []
    },
    "kernelspec": {
      "name": "python3",
      "display_name": "Python 3"
    },
    "language_info": {
      "name": "python"
    }
  },
  "cells": [
    {
      "cell_type": "markdown",
      "source": [
        "Random forest\n"
      ],
      "metadata": {
        "id": "caqeiqW8h-oQ"
      }
    },
    {
      "cell_type": "code",
      "execution_count": 3,
      "metadata": {
        "colab": {
          "base_uri": "https://localhost:8080/",
          "height": 1000
        },
        "id": "OCHEQ0aph3t4",
        "outputId": "660abc67-864b-479c-a648-b24fedcdc913"
      },
      "outputs": [
        {
          "output_type": "stream",
          "name": "stdout",
          "text": [
            "Drive already mounted at /content/drive; to attempt to forcibly remount, call drive.mount(\"/content/drive\", force_remount=True).\n",
            "root\n",
            " |-- preg: integer (nullable = true)\n",
            " |-- plas: integer (nullable = true)\n",
            " |-- pres: integer (nullable = true)\n",
            " |-- skin: integer (nullable = true)\n",
            " |-- test: integer (nullable = true)\n",
            " |-- mass: double (nullable = true)\n",
            " |-- pedi: double (nullable = true)\n",
            " |-- age: integer (nullable = true)\n",
            " |-- class: integer (nullable = true)\n",
            "\n",
            "+----+----+----+----+----+----+-----+---+-----+\n",
            "|preg|plas|pres|skin|test|mass| pedi|age|class|\n",
            "+----+----+----+----+----+----+-----+---+-----+\n",
            "|   6| 148|  72|  35|   0|33.6|0.627| 50|    1|\n",
            "|   1|  85|  66|  29|   0|26.6|0.351| 31|    0|\n",
            "|   8| 183|  64|   0|   0|23.3|0.672| 32|    1|\n",
            "|   1|  89|  66|  23|  94|28.1|0.167| 21|    0|\n",
            "|   0| 137|  40|  35| 168|43.1|2.288| 33|    1|\n",
            "+----+----+----+----+----+----+-----+---+-----+\n",
            "only showing top 5 rows\n",
            "\n",
            "+--------------------+-----+\n",
            "|            features|label|\n",
            "+--------------------+-----+\n",
            "|[6.0,148.0,72.0,3...|    1|\n",
            "|[1.0,85.0,66.0,29...|    0|\n",
            "|[8.0,183.0,64.0,0...|    1|\n",
            "|[1.0,89.0,66.0,23...|    0|\n",
            "|[0.0,137.0,40.0,3...|    1|\n",
            "+--------------------+-----+\n",
            "only showing top 5 rows\n",
            "\n",
            "+--------------------+-----+----------+\n",
            "|            features|label|prediction|\n",
            "+--------------------+-----+----------+\n",
            "|(8,[0,1,6,7],[3.0...|    0|       0.0|\n",
            "|(8,[1,5,6,7],[73....|    0|       0.0|\n",
            "|(8,[1,5,6,7],[117...|    0|       1.0|\n",
            "|(8,[1,5,6,7],[145...|    1|       1.0|\n",
            "|[0.0,78.0,88.0,29...|    0|       0.0|\n",
            "|[0.0,91.0,68.0,32...|    0|       0.0|\n",
            "|[0.0,95.0,64.0,39...|    0|       0.0|\n",
            "|[0.0,100.0,88.0,6...|    0|       0.0|\n",
            "|[0.0,104.0,64.0,2...|    0|       0.0|\n",
            "|[0.0,104.0,64.0,3...|    1|       0.0|\n",
            "+--------------------+-----+----------+\n",
            "only showing top 10 rows\n",
            "\n",
            "Accuracy: 0.8211\n",
            "preg: 0.0700\n",
            "plas: 0.3681\n",
            "pres: 0.0538\n",
            "skin: 0.0362\n",
            "test: 0.0430\n",
            "mass: 0.1790\n",
            "pedi: 0.0886\n",
            "age: 0.1613\n"
          ]
        },
        {
          "output_type": "display_data",
          "data": {
            "text/plain": [
              "<Figure size 1000x500 with 1 Axes>"
            ],
            "image/png": "[encoded data removed]"
          },
          "metadata": {}
        }
      ],
      "source": [
        "import pandas as pd\n",
        "from pyspark.sql import SparkSession\n",
        "from pyspark.sql.functions import col\n",
        "from pyspark.ml.feature import VectorAssembler\n",
        "from pyspark.ml.classification import RandomForestClassifier\n",
        "from pyspark.ml.evaluation import MulticlassClassificationEvaluator\n",
        "from google.colab import drive\n",
        "import matplotlib.pyplot as plt\n",
        "\n",
        "# Mount Google Drive\n",
        "drive.mount('/content/drive')\n",
        "\n",
        "# Initialize Spark Session\n",
        "spark = SparkSession.builder.appName(\"Pima_RF_Classifier\").getOrCreate()\n",
        "\n",
        "# Load dataset\n",
        "file_path = \"/content/drive/MyDrive/BDA/Dataset/pima.csv\"\n",
        "df = spark.read.csv(file_path, header=True, inferSchema=True)\n",
        "\n",
        "# Show dataset structure\n",
        "df.printSchema()\n",
        "df.show(5)\n",
        "\n",
        "# Data Preprocessing\n",
        "# Prepare features (exclude last column, which is the label)\n",
        "feature_columns = df.columns[:-1]\n",
        "\n",
        "# Assemble features into a single column\n",
        "assembler = VectorAssembler(inputCols=feature_columns, outputCol=\"features\")\n",
        "df = assembler.transform(df).select(\"features\", col(\"class\").alias(\"label\"))\n",
        "\n",
        "# Show transformed data\n",
        "df.show(5)\n",
        "\n",
        "# Split data into training and test sets\n",
        "train_df, test_df = df.randomSplit([0.8, 0.2], seed=42)\n",
        "\n",
        "# Train model\n",
        "rf = RandomForestClassifier(labelCol=\"label\", featuresCol=\"features\", numTrees=100, maxDepth=5, seed=42)\n",
        "rf_model = rf.fit(train_df)\n",
        "\n",
        "# Make predictions\n",
        "predictions = rf_model.transform(test_df)\n",
        "predictions.select(\"features\", \"label\", \"prediction\").show(10)\n",
        "\n",
        "# Evaluate accuracy\n",
        "accuracy_evaluator = MulticlassClassificationEvaluator(labelCol=\"label\", predictionCol=\"prediction\", metricName=\"accuracy\")\n",
        "accuracy = accuracy_evaluator.evaluate(predictions)\n",
        "print(f\"Accuracy: {accuracy:.4f}\")\n",
        "\n",
        "# Visualize feature importance\n",
        "# Get feature importances from the trained model\n",
        "importances = list(zip(feature_columns, rf_model.featureImportances.toArray()))\n",
        "importances.sort(key=lambda x: x[1], reverse=True)\n",
        "# Feature importance\n",
        "feature_importances = rf_model.featureImportances\n",
        "for i, col_name in enumerate(feature_columns):\n",
        "    print(f\"{col_name}: {feature_importances[i]:.4f}\")\n",
        "# Plot feature importances\n",
        "plt.figure(figsize=(10, 5))\n",
        "plt.barh([x[0] for x in importances], [x[1] for x in importances], color='skyblue')\n",
        "plt.xlabel(\"Feature Importance\")\n",
        "plt.ylabel(\"Features\")\n",
        "plt.title(\"Random Forest Feature Importance\")\n",
        "plt.gca().invert_yaxis()\n",
        "plt.show()\n",
        "\n",
        "# Stop Spark session\n",
        "spark.stop()\n"
      ]
    },
    {
      "cell_type": "code",
      "source": [],
      "metadata": {
        "id": "6J5tneb-nCzh"
      },
      "execution_count": null,
      "outputs": []
    }
  ]
}