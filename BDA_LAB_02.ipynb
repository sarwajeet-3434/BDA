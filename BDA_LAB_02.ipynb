{
  "nbformat": 4,
  "nbformat_minor": 0,
  "metadata": {
    "colab": {
      "provenance": []
    },
    "kernelspec": {
      "name": "python3",
      "display_name": "Python 3"
    },
    "language_info": {
      "name": "python"
    }
  },
  "cells": [
    {
      "cell_type": "code",
      "source": [
        "import pandas as pd\n",
        "import numpy as np\n",
        "from scipy import stats\n",
        "from sklearn.datasets import load_iris\n",
        "import seaborn as sns\n",
        "import matplotlib.pyplot as plt\n",
        "\n",
        "# Load the Iris dataset\n",
        "iris = sns.load_dataset('iris')\n",
        "print(iris.head())"
      ],
      "metadata": {
        "colab": {
          "base_uri": "https://localhost:8080/"
        },
        "id": "JrTrn05Oz_2N",
        "outputId": "48b1c76d-eb99-421a-f587-9c61688a729b"
      },
      "execution_count": 3,
      "outputs": [
        {
          "output_type": "stream",
          "name": "stdout",
          "text": [
            "   sepal_length  sepal_width  petal_length  petal_width species\n",
            "0           5.1          3.5           1.4          0.2  setosa\n",
            "1           4.9          3.0           1.4          0.2  setosa\n",
            "2           4.7          3.2           1.3          0.2  setosa\n",
            "3           4.6          3.1           1.5          0.2  setosa\n",
            "4           5.0          3.6           1.4          0.2  setosa\n"
          ]
        }
      ]
    },
    {
      "cell_type": "code",
      "source": [
        "# Z-Test\n",
        "sample = iris['sepal_length']\n",
        "mu = 5.8  # Hypothetical population mean\n",
        "sigma = sample.std(ddof=0)  # Population std\n",
        "n = len(sample)\n",
        "sample_mean = sample.mean()\n",
        "z = (sample_mean - mu) / (sigma / np.sqrt(n))\n",
        "p = 2 * (1 - stats.norm.cdf(abs(z)))\n",
        "print(f\"Z-Statistic = {z:.4f}, p-value = {p:.4f}\")"
      ],
      "metadata": {
        "colab": {
          "base_uri": "https://localhost:8080/"
        },
        "id": "XBato_WR0JM-",
        "outputId": "49d6ec66-afa1-48c3-fceb-3bbff653f822"
      },
      "execution_count": 4,
      "outputs": [
        {
          "output_type": "stream",
          "name": "stdout",
          "text": [
            "Z-Statistic = 0.6431, p-value = 0.5202\n"
          ]
        }
      ]
    },
    {
      "cell_type": "code",
      "source": [
        "# T-Test (One-Sample)\n",
        "t_stat, p_val = stats.ttest_1samp(iris['sepal_width'], 3.0)\n",
        "print(f\"One-Sample T-Test:\\nT-Statistic = {t_stat:.4f}, p-value = {p_val:.4f}\")"
      ],
      "metadata": {
        "colab": {
          "base_uri": "https://localhost:8080/"
        },
        "id": "expnvtgp0wQf",
        "outputId": "aeea801b-9044-43b8-ff65-62ef3c5df9a8"
      },
      "execution_count": 5,
      "outputs": [
        {
          "output_type": "stream",
          "name": "stdout",
          "text": [
            "One-Sample T-Test:\n",
            "T-Statistic = 1.6110, p-value = 0.1093\n"
          ]
        }
      ]
    },
    {
      "cell_type": "code",
      "source": [
        "# T-Test (Two-Sample)\n",
        "setosa = iris[iris['species'] == 'setosa']['petal_length']\n",
        "versicolor = iris[iris['species'] == 'versicolor']['petal_length']\n",
        "t_stat, p_val = stats.ttest_ind(setosa, versicolor)\n",
        "print(f\"Two-Sample T-Test:\\nT-Statistic = {t_stat:.4f}, p-value = {p_val:.4f}\")"
      ],
      "metadata": {
        "colab": {
          "base_uri": "https://localhost:8080/"
        },
        "id": "aQXFp5E-00f9",
        "outputId": "40ce8bcc-3751-4d71-fd0b-83fb078302c9"
      },
      "execution_count": 6,
      "outputs": [
        {
          "output_type": "stream",
          "name": "stdout",
          "text": [
            "Two-Sample T-Test:\n",
            "T-Statistic = -39.4927, p-value = 0.0000\n"
          ]
        }
      ]
    },
    {
      "cell_type": "code",
      "source": [
        "# ANOVA\n",
        "grouped = [group['sepal_width'].values for name, group in iris.groupby('species')]\n",
        "f_stat, p_val = stats.f_oneway(*grouped)\n",
        "print(f\"ANOVA:\\nF-Statistic = {f_stat:.4f}, p-value = {p_val:.4f}\")"
      ],
      "metadata": {
        "colab": {
          "base_uri": "https://localhost:8080/"
        },
        "id": "VLFyFDtJ05bw",
        "outputId": "fcae755d-e037-4479-f8d9-e965341938c2"
      },
      "execution_count": 7,
      "outputs": [
        {
          "output_type": "stream",
          "name": "stdout",
          "text": [
            "ANOVA:\n",
            "F-Statistic = 49.1600, p-value = 0.0000\n"
          ]
        }
      ]
    },
    {
      "cell_type": "code",
      "source": [
        "# Chi-Square Test\n",
        "#Convert petal_length into categories\n",
        "iris['petal_length_cat'] = pd.cut(iris['petal_length'], bins=3, labels=['Short', 'Medium', 'Long'])\n",
        "#Create contigency table\n",
        "contingency_table = pd.crosstab(iris['species'], iris['petal_length_cat'])\n",
        "#Chi-Square Test\n",
        "chi2, p, dof, expected = stats.chi2_contingency(contingency_table)\n",
        "print(f\"Chi-Square Test:\\nChi2 = {chi2:.4f}, p-value = {p:.4f}, Degrees of Freedom = {dof}\")"
      ],
      "metadata": {
        "colab": {
          "base_uri": "https://localhost:8080/"
        },
        "id": "JwxG02M50-GC",
        "outputId": "7d98984d-4fb6-46a9-869b-5407ffff7bd9"
      },
      "execution_count": 9,
      "outputs": [
        {
          "output_type": "stream",
          "name": "stdout",
          "text": [
            "Chi-Square Test:\n",
            "Chi2 = 256.5217, p-value = 0.0000, Degrees of Freedom = 4\n"
          ]
        }
      ]
    },
    {
      "cell_type": "code",
      "execution_count": 10,
      "metadata": {
        "colab": {
          "base_uri": "https://localhost:8080/"
        },
        "id": "t_NclklnzSN9",
        "outputId": "555fb04c-a4f2-4a55-867e-4269bea80677"
      },
      "outputs": [
        {
          "output_type": "stream",
          "name": "stdout",
          "text": [
            "F-Test:\n",
            "F-Ratio = 0.3073, p-value = 1.0000\n"
          ]
        }
      ],
      "source": [
        "# F-Test\n",
        "setosa_var = iris[iris['species'] == 'setosa']['sepal_length']\n",
        "virginica_var = iris[iris['species'] == 'virginica']['sepal_length']\n",
        "f = np.var(setosa_var, ddof=1) / np.var(virginica_var, ddof=1)\n",
        "df1 = len(setosa_var) - 1\n",
        "df2 = len(virginica_var) - 1\n",
        "p = 1 - stats.f.cdf(f, df1, df2)\n",
        "print(f\"F-Test:\\nF-Ratio = {f:.4f}, p-value = {p:.4f}\")"
      ]
    }
  ]
}